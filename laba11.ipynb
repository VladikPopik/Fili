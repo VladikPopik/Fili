{
  "cells": [
    {
      "cell_type": "code",
      "execution_count": 9,
      "metadata": {
        "colab": {
          "base_uri": "https://localhost:8080/"
        },
        "id": "SFAYCE736JcW",
        "outputId": "31bf99b1-40d3-490c-8c17-3e95eb595279"
      },
      "outputs": [
        {
          "ename": "",
          "evalue": "",
          "output_type": "error",
          "traceback": [
            "\u001b[1;31mThe kernel failed to start as the Python Environment 'lab-prak-NN (Python 3.12.3)' is no longer available. Consider selecting another kernel or refreshing the list of Python Environments."
          ]
        }
      ],
      "source": [
        "import math\n",
        "import numpy as np\n",
        "\n",
        "\n",
        "def check(a: int, b: int, c: int) -> bool:\n",
        "    eq1 = a + b > c\n",
        "    eq2 = a + c > b\n",
        "    eq3 = b + c > a\n",
        "    if all([eq1, eq2, eq3]):\n",
        "        return True\n",
        "    return False\n",
        "\n",
        "\n",
        "def find_h(a: int, b: int, c: int) -> float:\n",
        "    p = (a + b + c) / 2\n",
        "    temp = p * (p - a) * (p - b) * (p - c)\n",
        "    return 2 * math.sqrt(temp) / a\n",
        "\n",
        "\n",
        "objects_list = []\n",
        "targets_list = []\n",
        "for a in range(60):\n",
        "    for b in range(60):\n",
        "        for c in range(60):\n",
        "            if check(a, b, c):\n",
        "                objects_list.append(np.array([a, b, c]))\n",
        "                targets_list.append(np.array([round(find_h(a, b, c), 2)]))\n",
        "\n",
        "#Данные\n",
        "objects_list = np.array(objects_list)\n",
        "#Целевые\n",
        "targets_list = np.array(targets_list)\n",
        "\n",
        "print(\"Количество данных\", len(objects_list))\n",
        "#print(\"Структура данных:\\n\", objects_list)\n",
        "print(\"Количество целевых переменных\", len(targets_list))\n",
        "#print(\"Структура целевых переменных:\\n\", targets_list)"
      ]
    },
    {
      "cell_type": "code",
      "execution_count": null,
      "metadata": {
        "colab": {
          "base_uri": "https://localhost:8080/",
          "height": 419
        },
        "id": "hj72nJrb76L0",
        "outputId": "78ef0b83-08f8-4109-931e-d3af66f196a7"
      },
      "outputs": [],
      "source": [
        "import pandas as pd\n",
        "\n",
        "data = pd.DataFrame({\"a\": objects_list[:, 0], \"b\": objects_list[:, 1], \"c\": objects_list[:, 2], \"h\": targets_list[:, 0]})\n",
        "display(data)"
      ]
    },
    {
      "cell_type": "code",
      "execution_count": null,
      "metadata": {
        "colab": {
          "base_uri": "https://localhost:8080/"
        },
        "id": "8LTdx0EvDRVK",
        "outputId": "1533ab48-efb4-43c4-ead4-c584e2c3c142"
      },
      "outputs": [],
      "source": [
        "from sklearn.model_selection import train_test_split\n",
        "from sklearn.neural_network import MLPRegressor\n",
        "\n",
        "\n",
        "X_train, X_test, y_train, y_test = train_test_split(objects_list, targets_list[:, 0], test_size=0.3, random_state=15)\n",
        "\n",
        "# print(X_train.shape)\n",
        "# print(y_train.shape)\n",
        "\n",
        "# print(X_test.shape)\n",
        "# print(y_test.shape)\n",
        "\n",
        "mlp_model = MLPRegressor(hidden_layer_sizes=(128,64,32,16,8), activation=\"relu\", solver='adam', alpha=1, batch_size=600, max_iter=1, random_state=25)\n",
        "mlp_model.fit(X_train, y_train)\n",
        "\n",
        "mlp_model.score(X_train, y_train)"
      ]
    },
    {
      "cell_type": "code",
      "execution_count": null,
      "metadata": {
        "colab": {
          "base_uri": "https://localhost:8080/"
        },
        "id": "VxWZIXV1IgRW",
        "outputId": "d2540b63-bbf7-44c6-d7d7-213b6db7227f"
      },
      "outputs": [],
      "source": [
        "mlp_model.score(X_test, y_test)"
      ]
    },
    {
      "cell_type": "code",
      "execution_count": null,
      "metadata": {
        "colab": {
          "base_uri": "https://localhost:8080/"
        },
        "id": "Mt7vUMB4FtZi",
        "outputId": "135d430f-a1b0-409d-c0c7-09857a385174"
      },
      "outputs": [],
      "source": [
        "x_for_pred = np.array([[59, 59, 55], [59, 59, 57]])\n",
        "y = mlp_model.predict(x_for_pred)\n",
        "print(y)"
      ]
    },
    {
      "cell_type": "code",
      "execution_count": null,
      "metadata": {
        "colab": {
          "base_uri": "https://localhost:8080/"
        },
        "id": "24Bs2Vp0WOVY",
        "outputId": "23ff920b-ae1e-4a04-e462-b8c68cef6a7d"
      },
      "outputs": [],
      "source": [
        "# Предсказание модели для треугольника, стороны которого выходят за рамки крайних значений обучающего набора\n",
        "x_for_pred = np.array([[70, 70, 70]])\n",
        "y = mlp_model.predict(x_for_pred)\n",
        "print(y)"
      ]
    },
    {
      "cell_type": "code",
      "execution_count": null,
      "metadata": {
        "colab": {
          "base_uri": "https://localhost:8080/"
        },
        "id": "lgPRDA1GXCeN",
        "outputId": "9568d008-652a-4c74-de85-e3f6899efa69"
      },
      "outputs": [],
      "source": [
        "# Рассчет высоты прямым методом для высоты такого же треугольника\n",
        "h = find_h(70, 70, 70)\n",
        "print(h)"
      ]
    }
  ],
  "metadata": {
    "accelerator": "GPU",
    "colab": {
      "gpuType": "T4",
      "provenance": []
    },
    "kernelspec": {
      "display_name": ".venv",
      "language": "python",
      "name": "python3"
    },
    "language_info": {
      "codemirror_mode": {
        "name": "ipython",
        "version": 3
      },
      "file_extension": ".py",
      "mimetype": "text/x-python",
      "name": "python",
      "nbconvert_exporter": "python",
      "pygments_lexer": "ipython3",
      "version": "3.12.3"
    }
  },
  "nbformat": 4,
  "nbformat_minor": 0
}
